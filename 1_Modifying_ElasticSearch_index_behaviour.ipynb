{
 "cells": [
  {
   "cell_type": "code",
   "execution_count": 1,
   "id": "initial_id",
   "metadata": {
    "collapsed": true,
    "ExecuteTime": {
     "end_time": "2023-10-10T15:15:37.255154Z",
     "start_time": "2023-10-10T15:15:37.015518Z"
    }
   },
   "outputs": [
    {
     "name": "stdout",
     "output_type": "stream",
     "text": [
      "1_Modifying_ElasticSearch_index_behaviour.ipynb\r\n",
      "\u001B[34m20_newsgroups\u001B[m\u001B[m\r\n",
      "2_The_index_reloaded.ipynb\r\n",
      "\u001B[31mCountWords.py\u001B[m\u001B[m\r\n",
      "\u001B[31mIndexFilesPreprocess.py\u001B[m\u001B[m\r\n",
      "\u001B[31mProgrammingES.ipynb\u001B[m\u001B[m\r\n",
      "\u001B[31mProgrammingES.pdf\u001B[m\u001B[m\r\n",
      "\u001B[31mTFIDFViewer.py\u001B[m\u001B[m\r\n",
      "commands\r\n",
      "\u001B[34mdocs\u001B[m\u001B[m\r\n",
      "\u001B[31melastic_test.py\u001B[m\u001B[m\r\n",
      "\u001B[34mnovels\u001B[m\u001B[m\r\n",
      "\u001B[34mnovels_filters\u001B[m\u001B[m\r\n",
      "\u001B[34mnovels_tokenizer\u001B[m\u001B[m\r\n",
      "/Users/thomasmariafrey/Desktop/University/IRRS-MDS Information Retrieval and Recommender Systems/Lab/Lab Work/lab2\r\n"
     ]
    }
   ],
   "source": [
    "!ls\n",
    "!pwd"
   ]
  },
  {
   "cell_type": "code",
   "execution_count": 2,
   "outputs": [
    {
     "name": "stdout",
     "output_type": "stream",
     "text": [
      "/Users/thomasmariafrey/Desktop/University/IRRS-MDS Information Retrieval and Recommender Systems/Lab/Lab Work/lab2\n"
     ]
    }
   ],
   "source": [
    "import os\n",
    "# Set your own working directory here.\n",
    "os.chdir(\"/Users/thomasmariafrey/Desktop/University/IRRS-MDS Information Retrieval and Recommender Systems/Lab/Lab Work/lab2\")\n",
    "\n",
    "print(os.getcwd())"
   ],
   "metadata": {
    "collapsed": false,
    "ExecuteTime": {
     "end_time": "2023-10-10T15:16:07.706995Z",
     "start_time": "2023-10-10T15:16:07.698830Z"
    }
   },
   "id": "368cbdc65bc38412"
  },
  {
   "cell_type": "code",
   "execution_count": null,
   "outputs": [],
   "source": [
    "#Note that this cell might keep running if not stopped as it represents the server.\n",
    "#Run this command in the terminal.\n",
    "\n",
    "#/opt/elasticsearch-7.13.2/bin/elasticsearch"
   ],
   "metadata": {
    "collapsed": false
   },
   "id": "afb44ecaac2ea964"
  },
  {
   "cell_type": "code",
   "execution_count": null,
   "outputs": [],
   "source": [
    "#Server has to be running before executing the following comments.\n",
    "#Run this command in the console\n",
    "#run elastic_test.py"
   ],
   "metadata": {
    "collapsed": false
   },
   "id": "8594e92140365504"
  }
 ],
 "metadata": {
  "kernelspec": {
   "display_name": "Python 3",
   "language": "python",
   "name": "python3"
  },
  "language_info": {
   "codemirror_mode": {
    "name": "ipython",
    "version": 2
   },
   "file_extension": ".py",
   "mimetype": "text/x-python",
   "name": "python",
   "nbconvert_exporter": "python",
   "pygments_lexer": "ipython2",
   "version": "2.7.6"
  }
 },
 "nbformat": 4,
 "nbformat_minor": 5
}
