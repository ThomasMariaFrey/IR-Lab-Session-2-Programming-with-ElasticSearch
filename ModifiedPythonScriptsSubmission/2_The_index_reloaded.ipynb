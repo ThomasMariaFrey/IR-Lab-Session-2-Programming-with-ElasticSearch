{
 "cells": [
  {
   "cell_type": "markdown",
   "source": [
    "Python script for part 2 The index reloaded, please make sure that the elastic search server is running before using this script."
   ],
   "metadata": {
    "collapsed": false
   },
   "id": "188ddd1345ad37bd"
  },
  {
   "cell_type": "code",
   "execution_count": 4,
   "outputs": [],
   "source": [
    "import re\n",
    "def is_valid_format(row):\n",
    "    return re.match(r'^\\d+,', row)"
   ],
   "metadata": {
    "collapsed": false,
    "ExecuteTime": {
     "end_time": "2023-10-10T17:48:06.291846Z",
     "start_time": "2023-10-10T17:48:06.285621Z"
    }
   },
   "id": "fb846e477d536b8a"
  },
  {
   "cell_type": "code",
   "execution_count": null,
   "outputs": [],
   "source": [
    "#Using no --token\n",
    "!python3 IndexFilesPreprocess.py --index novels --path novels\n",
    "output = !python3 CountWords.py --index novels --alpha \n",
    "#Check that only relevant rows are considered.\n",
    "valid_rows = [row for row in output if is_valid_format(row)]\n",
    "#Types\n",
    "print(f\"Number of Types: {len(valid_rows)}\")\n",
    "#Tokens\n",
    "total = sum(int(row.split(',')[0].strip()) for row in valid_rows)\n",
    "print(f\"Number of Tokens: {total}\")\n"
   ],
   "metadata": {
    "collapsed": false
   },
   "id": "7c0dc7d9f711e3ac"
  },
  {
   "cell_type": "code",
   "execution_count": null,
   "outputs": [],
   "source": [
    "#Using --token whitespace\n",
    "!python3 IndexFilesPreprocess.py --index novels --path novels --token whitespace\n",
    "output = !python3 CountWords.py --index novels --alpha \n",
    "valid_rows = [row for row in output if is_valid_format(row)]\n",
    "print(f\"Number of Types: {len(valid_rows)}\")\n",
    "total = sum(int(row.split(',')[0].strip()) for row in valid_rows)\n",
    "print(f\"Number of Tokens: {total}\")"
   ],
   "metadata": {
    "collapsed": false
   },
   "id": "c89f70d527485f41"
  },
  {
   "cell_type": "code",
   "execution_count": null,
   "outputs": [],
   "source": [
    "#Using --token classic\n",
    "!python3 IndexFilesPreprocess.py --index novels --path novels --token classic\n",
    "output = !python3 CountWords.py --index novels --alpha \n",
    "valid_rows = [row for row in output if is_valid_format(row)]\n",
    "print(f\"Number of Types: {len(valid_rows)}\")\n",
    "total = sum(int(row.split(',')[0].strip()) for row in valid_rows)\n",
    "print(f\"Number of Tokens: {total}\")"
   ],
   "metadata": {
    "collapsed": false
   },
   "id": "789dacae90dac512"
  },
  {
   "cell_type": "code",
   "execution_count": null,
   "outputs": [],
   "source": [
    "#Using --token standard\n",
    "!python3 IndexFilesPreprocess.py --index novels --path novels --token standard\n",
    "output = !python3 CountWords.py --index novels --alpha \n",
    "valid_rows = [row for row in output if is_valid_format(row)]\n",
    "print(f\"Number of Types: {len(valid_rows)}\")\n",
    "total = sum(int(row.split(',')[0].strip()) for row in valid_rows)\n",
    "print(f\"Number of Tokens: {total}\")"
   ],
   "metadata": {
    "collapsed": false
   },
   "id": "44ea77f67fe5ada3"
  },
  {
   "cell_type": "code",
   "execution_count": null,
   "outputs": [],
   "source": [
    "#Using --token letter\n",
    "!python3 IndexFilesPreprocess.py --index novels --path novels --token letter\n",
    "output = !python3 CountWords.py --index novels --alpha \n",
    "valid_rows = [row for row in output if is_valid_format(row)]\n",
    "print(f\"Number of Types: {len(valid_rows)}\")\n",
    "total = sum(int(row.split(',')[0].strip()) for row in valid_rows)\n",
    "print(f\"Number of Tokens: {total}\")"
   ],
   "metadata": {
    "collapsed": false
   },
   "id": "7463d8419d99042"
  },
  {
   "cell_type": "markdown",
   "source": [
    "The most aggressive tokenizer is standard therefore it will be used for working with the filters"
   ],
   "metadata": {
    "collapsed": false
   },
   "id": "3e8580848dad5c65"
  },
  {
   "cell_type": "code",
   "execution_count": null,
   "outputs": [],
   "source": [
    "#Using --token standard base line with no filter\n",
    "!python3 IndexFilesPreprocess.py --index arxiv_abs --path arxiv_abs --token standard\n",
    "output = !python3 CountWords.py --index arxiv_abs\n",
    "#Check that only relevant rows are considered.\n",
    "valid_rows = [row for row in output if is_valid_format(row)]\n",
    "#Print the output to see the terms\n",
    "print(output)\n",
    "#Types\n",
    "print(f\"Number of Types: {len(valid_rows)}\")\n",
    "total = sum(int(row.split(',')[0].strip()) for row in valid_rows)\n",
    "#Tokens\n",
    "print(f\"Number of Tokens: {total}\")\n"
   ],
   "metadata": {
    "collapsed": false
   },
   "id": "c9467f4a812ad311"
  },
  {
   "cell_type": "code",
   "execution_count": null,
   "outputs": [],
   "source": [
    "#Using --token standard base line with lowercase filter\n",
    "!python3 IndexFilesPreprocess.py --index arxiv_abs --path arxiv_abs --token standard --filter lowercase\n",
    "output = !python3 CountWords.py --index arxiv_abs\n",
    "valid_rows = [row for row in output if is_valid_format(row)]\n",
    "print(output)\n",
    "print(f\"Number of Types: {len(valid_rows)}\")\n",
    "total = sum(int(row.split(',')[0].strip()) for row in valid_rows)\n",
    "print(f\"Number of Tokens: {total}\")"
   ],
   "metadata": {
    "collapsed": false
   },
   "id": "77ef08a7d664c282"
  },
  {
   "cell_type": "code",
   "execution_count": null,
   "outputs": [],
   "source": [
    "#Using --token standard base line with asciifolding filter\n",
    "!python3 IndexFilesPreprocess.py --index arxiv_abs --path arxiv_abs --token standard --filter asciifolding\n",
    "output = !python3 CountWords.py --index arxiv_abs\n",
    "valid_rows = [row for row in output if is_valid_format(row)]\n",
    "print(output)\n",
    "print(f\"Number of Types: {len(valid_rows)}\")\n",
    "total = sum(int(row.split(',')[0].strip()) for row in valid_rows)\n",
    "print(f\"Number of Tokens: {total}\")"
   ],
   "metadata": {
    "collapsed": false
   },
   "id": "ffe0de3b65415441"
  },
  {
   "cell_type": "code",
   "execution_count": null,
   "outputs": [],
   "source": [
    "#Using --token standard base line with stop filter\n",
    "!python3 IndexFilesPreprocess.py --index arxiv_abs --path arxiv_abs --token standard --filter stop\n",
    "output = !python3 CountWords.py --index arxiv_abs\n",
    "valid_rows = [row for row in output if is_valid_format(row)]\n",
    "print(output)\n",
    "print(f\"Number of Types: {len(valid_rows)}\")\n",
    "total = sum(int(row.split(',')[0].strip()) for row in valid_rows)\n",
    "print(f\"Number of Tokens: {total}\")"
   ],
   "metadata": {
    "collapsed": false
   },
   "id": "208ee292736ea019"
  },
  {
   "cell_type": "code",
   "execution_count": null,
   "outputs": [],
   "source": [
    "#Using --token standard base line with snowball Stemmer\n",
    "!python3 IndexFilesPreprocess.py --index arxiv_abs --path arxiv_abs --token standard --filter snowball\n",
    "output = !python3 CountWords.py --index arxiv_abs\n",
    "valid_rows = [row for row in output if is_valid_format(row)]\n",
    "print(output)\n",
    "print(f\"Number of Types: {len(valid_rows)}\")\n",
    "total = sum(int(row.split(',')[0].strip()) for row in valid_rows)\n",
    "print(f\"Number of Tokens: {total}\")"
   ],
   "metadata": {
    "collapsed": false
   },
   "id": "fdf343c4e05a5bfc"
  },
  {
   "cell_type": "code",
   "execution_count": null,
   "outputs": [],
   "source": [
    "#Using --token standard base line with porter_stem stemmer\n",
    "!python3 IndexFilesPreprocess.py --index arxiv_abs --path arxiv_abs --token standard --filter porter_stem\n",
    "output = !python3 CountWords.py --index arxiv_abs\n",
    "valid_rows = [row for row in output if is_valid_format(row)]\n",
    "print(output)\n",
    "print(f\"Number of Types: {len(valid_rows)}\")\n",
    "total = sum(int(row.split(',')[0].strip()) for row in valid_rows)\n",
    "print(f\"Number of Tokens: {total}\")"
   ],
   "metadata": {
    "collapsed": false
   },
   "id": "d7d9417a3ebbaed6"
  },
  {
   "cell_type": "code",
   "execution_count": null,
   "outputs": [],
   "source": [
    "#Using --token standard base line with kstem stemmer\n",
    "!python3 IndexFilesPreprocess.py --index arxiv_abs --path arxiv_abs --token standard --filter kstem\n",
    "output = !python3 CountWords.py --index arxiv_abs\n",
    "valid_rows = [row for row in output if is_valid_format(row)]\n",
    "print(output)\n",
    "print(f\"Number of Types: {len(valid_rows)}\")\n",
    "total = sum(int(row.split(',')[0].strip()) for row in valid_rows)\n",
    "print(f\"Number of Tokens: {total}\")"
   ],
   "metadata": {
    "collapsed": false
   },
   "id": "39e69237212d900"
  },
  {
   "cell_type": "code",
   "execution_count": null,
   "outputs": [],
   "source": [
    "#Using --token standard base line with lowercase and asciifolding filter\n",
    "!python3 IndexFilesPreprocess.py --index arxiv_abs --path arxiv_abs --token standard --filter lowercase asciifolding\n",
    "output = !python3 CountWords.py --index arxiv_abs\n",
    "valid_rows = [row for row in output if is_valid_format(row)]\n",
    "print(output)\n",
    "print(f\"Number of Types: {len(valid_rows)}\")\n",
    "total = sum(int(row.split(',')[0].strip()) for row in valid_rows)\n",
    "print(f\"Number of Tokens: {total}\")"
   ],
   "metadata": {
    "collapsed": false
   },
   "id": "e1725ed3320cf193"
  },
  {
   "cell_type": "code",
   "execution_count": null,
   "outputs": [],
   "source": [
    "#Using --token standard base line with all filters and snowball stemmer\n",
    "!python3 IndexFilesPreprocess.py --index arxiv_abs --path arxiv_abs --token standard --filter lowercase asciifolding stop snowball\n",
    "output = !python3 CountWords.py --index arxiv_abs\n",
    "valid_rows = [row for row in output if is_valid_format(row)]\n",
    "print(output)\n",
    "print(f\"Number of Types: {len(valid_rows)}\")\n",
    "total = sum(int(row.split(',')[0].strip()) for row in valid_rows)\n",
    "print(f\"Number of Tokens: {total}\")"
   ],
   "metadata": {
    "collapsed": false
   },
   "id": "1de94c41591bb2d1"
  }
 ],
 "metadata": {
  "kernelspec": {
   "display_name": "Python 3",
   "language": "python",
   "name": "python3"
  },
  "language_info": {
   "codemirror_mode": {
    "name": "ipython",
    "version": 2
   },
   "file_extension": ".py",
   "mimetype": "text/x-python",
   "name": "python",
   "nbconvert_exporter": "python",
   "pygments_lexer": "ipython2",
   "version": "2.7.6"
  }
 },
 "nbformat": 4,
 "nbformat_minor": 5
}
