{
 "cells": [
  {
   "cell_type": "markdown",
   "id": "a7811e7b489a0065",
   "metadata": {},
   "source": [
    "### Confirming ElasticSearch Server is running"
   ]
  },
  {
   "cell_type": "code",
   "execution_count": 6,
   "id": "198d8e8ec25cbc7",
   "metadata": {
    "ExecuteTime": {
     "end_time": "2023-10-11T12:06:49.877569Z",
     "start_time": "2023-10-11T12:06:49.744232Z"
    }
   },
   "outputs": [
    {
     "name": "stdout",
     "output_type": "stream",
     "text": [
      "b'{\\n  \"name\" : \"10-192-205-86client.eduroam.upc.edu\",\\n  \"cluster_name\" : \"elasticsearch\",\\n  \"cluster_uuid\" : \"M_it95IjRxSIqi8EljtGHA\",\\n  \"version\" : {\\n    \"number\" : \"7.13.2\",\\n    \"build_flavor\" : \"default\",\\n    \"build_type\" : \"tar\",\\n    \"build_hash\" : \"4d960a0733be83dd2543ca018aa4ddc42e956800\",\\n    \"build_date\" : \"2021-06-10T21:01:55.251515791Z\",\\n    \"build_snapshot\" : false,\\n    \"lucene_version\" : \"8.8.2\",\\n    \"minimum_wire_compatibility_version\" : \"6.8.0\",\\n    \"minimum_index_compatibility_version\" : \"6.0.0-beta1\"\\n  },\\n  \"tagline\" : \"You Know, for Search\"\\n}\\n'\r\n"
     ]
    }
   ],
   "source": [
    "#elasticsearch is running in terminal using /opt/elasticsearch-7.13.2/bin/elasticsearch\n",
    "!python3 elastic_test.py"
   ]
  },
  {
   "cell_type": "markdown",
   "id": "60b2fe6f63150fc3",
   "metadata": {},
   "source": [
    "### Testing Implementation using doc directory"
   ]
  },
  {
   "cell_type": "code",
   "execution_count": 12,
   "id": "dc2a5cef",
   "metadata": {},
   "outputs": [
    {
     "name": "stdout",
     "output_type": "stream",
     "text": [
      "Indexing 7 files\n",
      "Reading files ...\n",
      "/Users/leandramoonsammy/lkmoonsammy/lib/python3.7/site-packages/elasticsearch/connection/base.py:208: ElasticsearchWarning: Elasticsearch built-in security features are not enabled. Without authentication, your cluster could be accessible to anyone. See https://www.elastic.co/guide/en/elasticsearch/reference/7.13/security-minimal-setup.html to enable security.\n",
      "  warnings.warn(message, category=ElasticsearchWarning)\n",
      "/Users/leandramoonsammy/lkmoonsammy/lib/python3.7/site-packages/elasticsearch/connection/base.py:208: ElasticsearchWarning: the default value for the ?wait_for_active_shards parameter will change from '0' to 'index-setting' in version 8; specify '?wait_for_active_shards=index-setting' to adopt the future default behaviour, or '?wait_for_active_shards=0' to preserve today's behaviour\n",
      "  warnings.warn(message, category=ElasticsearchWarning)\n",
      "/Users/leandramoonsammy/lkmoonsammy/lib/python3.7/site-packages/elasticsearch/connection/base.py:208: ElasticsearchWarning: [types removal] Using include_type_name in put mapping requests is deprecated. The parameter will be removed in the next major version.\n",
      "  warnings.warn(message, category=ElasticsearchWarning)\n",
      "Index settings= {'docs': {'settings': {'index': {'routing': {'allocation': {'include': {'_tier_preference': 'data_content'}}}, 'number_of_shards': '1', 'provided_name': 'docs', 'creation_date': '1697404780073', 'analysis': {'analyzer': {'default': {'filter': ['lowercase'], 'type': 'custom', 'tokenizer': 'standard'}}}, 'number_of_replicas': '1', 'uuid': 'mW0gMAZ3RK6KqbMbXSPXSw', 'version': {'created': '7130299'}}}}}\n",
      "Indexing ...\n"
     ]
    }
   ],
   "source": [
    "!python3 IndexFilesPreprocess.py --index docs --path docs"
   ]
  },
  {
   "cell_type": "code",
   "execution_count": 2,
   "id": "593ecee2",
   "metadata": {},
   "outputs": [
    {
     "name": "stdout",
     "output_type": "stream",
     "text": [
      "/Users/leandramoonsammy/lkmoonsammy/lib/python3.7/site-packages/elasticsearch/connection/base.py:208: ElasticsearchWarning: Elasticsearch built-in security features are not enabled. Without authentication, your cluster could be accessible to anyone. See https://www.elastic.co/guide/en/elasticsearch/reference/7.13/security-minimal-setup.html to enable security.\n",
      "  warnings.warn(message, category=ElasticsearchWarning)\n",
      "Similarity = 1.00000\n"
     ]
    }
   ],
   "source": [
    "!python3 TFIDFViewer.py --index docs --files docs/7 docs/7"
   ]
  },
  {
   "cell_type": "code",
   "execution_count": 3,
   "id": "7d249e71",
   "metadata": {},
   "outputs": [
    {
     "name": "stdout",
     "output_type": "stream",
     "text": [
      "/Users/leandramoonsammy/lkmoonsammy/lib/python3.7/site-packages/elasticsearch/connection/base.py:208: ElasticsearchWarning: Elasticsearch built-in security features are not enabled. Without authentication, your cluster could be accessible to anyone. See https://www.elastic.co/guide/en/elasticsearch/reference/7.13/security-minimal-setup.html to enable security.\r\n",
      "  warnings.warn(message, category=ElasticsearchWarning)\r\n",
      "Similarity = 0.01099\r\n"
     ]
    }
   ],
   "source": [
    "!python3 TFIDFViewer.py --index docs --files docs/1 docs/2"
   ]
  },
  {
   "cell_type": "code",
   "execution_count": 4,
   "id": "9231f63e",
   "metadata": {},
   "outputs": [
    {
     "name": "stdout",
     "output_type": "stream",
     "text": [
      "/Users/leandramoonsammy/lkmoonsammy/lib/python3.7/site-packages/elasticsearch/connection/base.py:208: ElasticsearchWarning: Elasticsearch built-in security features are not enabled. Without authentication, your cluster could be accessible to anyone. See https://www.elastic.co/guide/en/elasticsearch/reference/7.13/security-minimal-setup.html to enable security.\n",
      "  warnings.warn(message, category=ElasticsearchWarning)\n",
      "Similarity = 0.21815\n"
     ]
    }
   ],
   "source": [
    "!python3 TFIDFViewer.py --index docs --files docs/1 docs/3"
   ]
  },
  {
   "cell_type": "markdown",
   "id": "b1b3ac8b",
   "metadata": {},
   "source": [
    "### 4. Experimenting"
   ]
  },
  {
   "cell_type": "markdown",
   "id": "56575c95",
   "metadata": {},
   "source": [
    "### Novels"
   ]
  },
  {
   "cell_type": "code",
   "execution_count": 7,
   "id": "b967c04a",
   "metadata": {},
   "outputs": [
    {
     "name": "stdout",
     "output_type": "stream",
     "text": [
      "Indexing 33 files\n",
      "Reading files ...\n",
      "/Users/leandramoonsammy/lkmoonsammy/lib/python3.7/site-packages/elasticsearch/connection/base.py:208: ElasticsearchWarning: Elasticsearch built-in security features are not enabled. Without authentication, your cluster could be accessible to anyone. See https://www.elastic.co/guide/en/elasticsearch/reference/7.13/security-minimal-setup.html to enable security.\n",
      "  warnings.warn(message, category=ElasticsearchWarning)\n",
      "/Users/leandramoonsammy/lkmoonsammy/lib/python3.7/site-packages/elasticsearch/connection/base.py:208: ElasticsearchWarning: the default value for the ?wait_for_active_shards parameter will change from '0' to 'index-setting' in version 8; specify '?wait_for_active_shards=index-setting' to adopt the future default behaviour, or '?wait_for_active_shards=0' to preserve today's behaviour\n",
      "  warnings.warn(message, category=ElasticsearchWarning)\n",
      "/Users/leandramoonsammy/lkmoonsammy/lib/python3.7/site-packages/elasticsearch/connection/base.py:208: ElasticsearchWarning: [types removal] Using include_type_name in put mapping requests is deprecated. The parameter will be removed in the next major version.\n",
      "  warnings.warn(message, category=ElasticsearchWarning)\n",
      "Index settings= {'novels': {'settings': {'index': {'routing': {'allocation': {'include': {'_tier_preference': 'data_content'}}}, 'number_of_shards': '1', 'provided_name': 'novels', 'creation_date': '1697404300739', 'analysis': {'analyzer': {'default': {'filter': ['lowercase'], 'type': 'custom', 'tokenizer': 'standard'}}}, 'number_of_replicas': '1', 'uuid': 'otekGuvESaGym7gQanfS0w', 'version': {'created': '7130299'}}}}}\n",
      "Indexing ...\n"
     ]
    }
   ],
   "source": [
    "!python3 IndexFilesPreprocess.py --index novels --path novels"
   ]
  },
  {
   "cell_type": "code",
   "execution_count": 13,
   "id": "e7481c1d",
   "metadata": {},
   "outputs": [
    {
     "name": "stdout",
     "output_type": "stream",
     "text": [
      "/Users/leandramoonsammy/lkmoonsammy/lib/python3.7/site-packages/elasticsearch/connection/base.py:208: ElasticsearchWarning: Elasticsearch built-in security features are not enabled. Without authentication, your cluster could be accessible to anyone. See https://www.elastic.co/guide/en/elasticsearch/reference/7.13/security-minimal-setup.html to enable security.\n",
      "  warnings.warn(message, category=ElasticsearchWarning)\n",
      "Similarity = 1.00000\n"
     ]
    }
   ],
   "source": [
    "!python3 TFIDFViewer.py --index novels --files novels/DickensAChristmasCarol.txt novels/DickensAChristmasCarol.txt"
   ]
  },
  {
   "cell_type": "code",
   "execution_count": 8,
   "id": "33adc486",
   "metadata": {},
   "outputs": [
    {
     "name": "stdout",
     "output_type": "stream",
     "text": [
      "/Users/leandramoonsammy/lkmoonsammy/lib/python3.7/site-packages/elasticsearch/connection/base.py:208: ElasticsearchWarning: Elasticsearch built-in security features are not enabled. Without authentication, your cluster could be accessible to anyone. See https://www.elastic.co/guide/en/elasticsearch/reference/7.13/security-minimal-setup.html to enable security.\n",
      "  warnings.warn(message, category=ElasticsearchWarning)\n",
      "Similarity = 0.01542\n"
     ]
    }
   ],
   "source": [
    "!python3 TFIDFViewer.py --index novels --files novels/DickensAChristmasCarol.txt novels/DickensThePickwickPapers.txt"
   ]
  },
  {
   "cell_type": "code",
   "execution_count": 9,
   "id": "2d88859a",
   "metadata": {},
   "outputs": [
    {
     "name": "stdout",
     "output_type": "stream",
     "text": [
      "/Users/leandramoonsammy/lkmoonsammy/lib/python3.7/site-packages/elasticsearch/connection/base.py:208: ElasticsearchWarning: Elasticsearch built-in security features are not enabled. Without authentication, your cluster could be accessible to anyone. See https://www.elastic.co/guide/en/elasticsearch/reference/7.13/security-minimal-setup.html to enable security.\n",
      "  warnings.warn(message, category=ElasticsearchWarning)\n",
      "Similarity = 0.07720\n"
     ]
    }
   ],
   "source": [
    "!python3 TFIDFViewer.py --index novels --files novels/WellsTimeMachine.txt novels/WellsWarofTheWorlds.txt"
   ]
  },
  {
   "cell_type": "code",
   "execution_count": 10,
   "id": "6787adfe",
   "metadata": {},
   "outputs": [
    {
     "name": "stdout",
     "output_type": "stream",
     "text": [
      "/Users/leandramoonsammy/lkmoonsammy/lib/python3.7/site-packages/elasticsearch/connection/base.py:208: ElasticsearchWarning: Elasticsearch built-in security features are not enabled. Without authentication, your cluster could be accessible to anyone. See https://www.elastic.co/guide/en/elasticsearch/reference/7.13/security-minimal-setup.html to enable security.\n",
      "  warnings.warn(message, category=ElasticsearchWarning)\n",
      "Similarity = 0.00928\n"
     ]
    }
   ],
   "source": [
    "!python3 TFIDFViewer.py --index novels --files novels/DickensAChristmasCarol.txt novels/WellsWarofTheWorlds.txt"
   ]
  },
  {
   "cell_type": "markdown",
   "id": "aad96330",
   "metadata": {},
   "source": [
    "### News"
   ]
  },
  {
   "cell_type": "code",
   "execution_count": 24,
   "id": "32ea75c9",
   "metadata": {},
   "outputs": [
    {
     "name": "stdout",
     "output_type": "stream",
     "text": [
      "Indexing 20090 files\n",
      "Reading files ...\n",
      "/Users/leandramoonsammy/lkmoonsammy/lib/python3.7/site-packages/elasticsearch/connection/base.py:208: ElasticsearchWarning: Elasticsearch built-in security features are not enabled. Without authentication, your cluster could be accessible to anyone. See https://www.elastic.co/guide/en/elasticsearch/reference/7.13/security-minimal-setup.html to enable security.\n",
      "  warnings.warn(message, category=ElasticsearchWarning)\n",
      "/Users/leandramoonsammy/lkmoonsammy/lib/python3.7/site-packages/elasticsearch/connection/base.py:208: ElasticsearchWarning: the default value for the ?wait_for_active_shards parameter will change from '0' to 'index-setting' in version 8; specify '?wait_for_active_shards=index-setting' to adopt the future default behaviour, or '?wait_for_active_shards=0' to preserve today's behaviour\n",
      "  warnings.warn(message, category=ElasticsearchWarning)\n",
      "/Users/leandramoonsammy/lkmoonsammy/lib/python3.7/site-packages/elasticsearch/connection/base.py:208: ElasticsearchWarning: [types removal] Using include_type_name in put mapping requests is deprecated. The parameter will be removed in the next major version.\n",
      "  warnings.warn(message, category=ElasticsearchWarning)\n",
      "Index settings= {'news': {'settings': {'index': {'routing': {'allocation': {'include': {'_tier_preference': 'data_content'}}}, 'number_of_shards': '1', 'provided_name': 'news', 'creation_date': '1697405860761', 'analysis': {'analyzer': {'default': {'filter': ['lowercase'], 'type': 'custom', 'tokenizer': 'standard'}}}, 'number_of_replicas': '1', 'uuid': 'A_FXado-Tl2RyOnWhWBH-g', 'version': {'created': '7130299'}}}}}\n",
      "Indexing ...\n"
     ]
    }
   ],
   "source": [
    "!python3 IndexFilesPreprocess.py --index news --path 20_newsgroups"
   ]
  },
  {
   "cell_type": "code",
   "execution_count": 25,
   "id": "c5c77f27",
   "metadata": {},
   "outputs": [
    {
     "name": "stdout",
     "output_type": "stream",
     "text": [
      "/Users/leandramoonsammy/lkmoonsammy/lib/python3.7/site-packages/elasticsearch/connection/base.py:208: ElasticsearchWarning: Elasticsearch built-in security features are not enabled. Without authentication, your cluster could be accessible to anyone. See https://www.elastic.co/guide/en/elasticsearch/reference/7.13/security-minimal-setup.html to enable security.\n",
      "  warnings.warn(message, category=ElasticsearchWarning)\n",
      "Similarity = 1.00000\n"
     ]
    }
   ],
   "source": [
    "!python3 TFIDFViewer.py --index news --files 20_newsgroups/alt.atheism/0000001 20_newsgroups/alt.atheism/0000001"
   ]
  },
  {
   "cell_type": "code",
   "execution_count": 26,
   "id": "f9f214db",
   "metadata": {},
   "outputs": [
    {
     "name": "stdout",
     "output_type": "stream",
     "text": [
      "/Users/leandramoonsammy/lkmoonsammy/lib/python3.7/site-packages/elasticsearch/connection/base.py:208: ElasticsearchWarning: Elasticsearch built-in security features are not enabled. Without authentication, your cluster could be accessible to anyone. See https://www.elastic.co/guide/en/elasticsearch/reference/7.13/security-minimal-setup.html to enable security.\n",
      "  warnings.warn(message, category=ElasticsearchWarning)\n",
      "Similarity = 0.01726\n"
     ]
    }
   ],
   "source": [
    "!python3 TFIDFViewer.py --index news --files 20_newsgroups/sci.space/0014001 20_newsgroups/alt.atheism/0000001"
   ]
  },
  {
   "cell_type": "code",
   "execution_count": 28,
   "id": "5063bd8b",
   "metadata": {},
   "outputs": [
    {
     "name": "stdout",
     "output_type": "stream",
     "text": [
      "/Users/leandramoonsammy/lkmoonsammy/lib/python3.7/site-packages/elasticsearch/connection/base.py:208: ElasticsearchWarning: Elasticsearch built-in security features are not enabled. Without authentication, your cluster could be accessible to anyone. See https://www.elastic.co/guide/en/elasticsearch/reference/7.13/security-minimal-setup.html to enable security.\n",
      "  warnings.warn(message, category=ElasticsearchWarning)\n",
      "Similarity = 0.01135\n"
     ]
    }
   ],
   "source": [
    "!python3 TFIDFViewer.py --index news --files 20_newsgroups/talk.politics.guns/0011939 20_newsgroups/talk.politics.mideast/0016997"
   ]
  },
  {
   "cell_type": "code",
   "execution_count": 29,
   "id": "7db4a6da",
   "metadata": {},
   "outputs": [
    {
     "name": "stdout",
     "output_type": "stream",
     "text": [
      "/Users/leandramoonsammy/lkmoonsammy/lib/python3.7/site-packages/elasticsearch/connection/base.py:208: ElasticsearchWarning: Elasticsearch built-in security features are not enabled. Without authentication, your cluster could be accessible to anyone. See https://www.elastic.co/guide/en/elasticsearch/reference/7.13/security-minimal-setup.html to enable security.\n",
      "  warnings.warn(message, category=ElasticsearchWarning)\n",
      "Similarity = 0.10808\n"
     ]
    }
   ],
   "source": [
    "!python3 TFIDFViewer.py --index news --files 20_newsgroups/talk.religion.misc/0000020 20_newsgroups/alt.atheism/0000001"
   ]
  },
  {
   "cell_type": "code",
   "execution_count": 30,
   "id": "a40d09cf",
   "metadata": {},
   "outputs": [
    {
     "name": "stdout",
     "output_type": "stream",
     "text": [
      "/Users/leandramoonsammy/lkmoonsammy/lib/python3.7/site-packages/elasticsearch/connection/base.py:208: ElasticsearchWarning: Elasticsearch built-in security features are not enabled. Without authentication, your cluster could be accessible to anyone. See https://www.elastic.co/guide/en/elasticsearch/reference/7.13/security-minimal-setup.html to enable security.\n",
      "  warnings.warn(message, category=ElasticsearchWarning)\n",
      "Similarity = 0.03673\n"
     ]
    }
   ],
   "source": [
    "!python3 TFIDFViewer.py --index news --files 20_newsgroups/talk.religion.misc/0000020 20_newsgroups/soc.religion.christian/0015001"
   ]
  },
  {
   "cell_type": "code",
   "execution_count": 33,
   "id": "4e3d501a",
   "metadata": {},
   "outputs": [
    {
     "name": "stdout",
     "output_type": "stream",
     "text": [
      "/Users/leandramoonsammy/lkmoonsammy/lib/python3.7/site-packages/elasticsearch/connection/base.py:208: ElasticsearchWarning: Elasticsearch built-in security features are not enabled. Without authentication, your cluster could be accessible to anyone. See https://www.elastic.co/guide/en/elasticsearch/reference/7.13/security-minimal-setup.html to enable security.\r\n",
      "  warnings.warn(message, category=ElasticsearchWarning)\r\n",
      "Similarity = 0.02433\r\n"
     ]
    }
   ],
   "source": [
    "!python3 TFIDFViewer.py --index news --files 20_newsgroups/talk.religion.misc/0000020 20_newsgroups/talk.politics.misc/0014928"
   ]
  },
  {
   "cell_type": "code",
   "execution_count": 34,
   "id": "5ba2eb95",
   "metadata": {},
   "outputs": [
    {
     "name": "stdout",
     "output_type": "stream",
     "text": [
      "/Users/leandramoonsammy/lkmoonsammy/lib/python3.7/site-packages/elasticsearch/connection/base.py:208: ElasticsearchWarning: Elasticsearch built-in security features are not enabled. Without authentication, your cluster could be accessible to anyone. See https://www.elastic.co/guide/en/elasticsearch/reference/7.13/security-minimal-setup.html to enable security.\n",
      "  warnings.warn(message, category=ElasticsearchWarning)\n",
      "Similarity = 0.01710\n"
     ]
    }
   ],
   "source": [
    "!python3 TFIDFViewer.py --index news --files 20_newsgroups/comp.windows.x/0005000 20_newsgroups/comp.os.ms-windows.misc/0002001"
   ]
  },
  {
   "cell_type": "code",
   "execution_count": 35,
   "id": "20d88b21",
   "metadata": {},
   "outputs": [
    {
     "name": "stdout",
     "output_type": "stream",
     "text": [
      "/Users/leandramoonsammy/lkmoonsammy/lib/python3.7/site-packages/elasticsearch/connection/base.py:208: ElasticsearchWarning: Elasticsearch built-in security features are not enabled. Without authentication, your cluster could be accessible to anyone. See https://www.elastic.co/guide/en/elasticsearch/reference/7.13/security-minimal-setup.html to enable security.\n",
      "  warnings.warn(message, category=ElasticsearchWarning)\n",
      "Similarity = 0.14092\n"
     ]
    }
   ],
   "source": [
    "!python3 TFIDFViewer.py --index news --files 20_newsgroups/rec.sport.baseball/0009001 20_newsgroups/rec.sport.hockey/0010001"
   ]
  },
  {
   "cell_type": "code",
   "execution_count": 36,
   "id": "e416f50c",
   "metadata": {},
   "outputs": [
    {
     "name": "stdout",
     "output_type": "stream",
     "text": [
      "/Users/leandramoonsammy/lkmoonsammy/lib/python3.7/site-packages/elasticsearch/connection/base.py:208: ElasticsearchWarning: Elasticsearch built-in security features are not enabled. Without authentication, your cluster could be accessible to anyone. See https://www.elastic.co/guide/en/elasticsearch/reference/7.13/security-minimal-setup.html to enable security.\n",
      "  warnings.warn(message, category=ElasticsearchWarning)\n",
      "Similarity = 0.00904\n"
     ]
    }
   ],
   "source": [
    "!python3 TFIDFViewer.py --index news --files 20_newsgroups/comp.sys.ibm.pc.hardware/0001161 20_newsgroups/comp.sys.mac.hardware/0003253"
   ]
  },
  {
   "cell_type": "code",
   "execution_count": 37,
   "id": "39a9b820",
   "metadata": {},
   "outputs": [
    {
     "name": "stdout",
     "output_type": "stream",
     "text": [
      "/Users/leandramoonsammy/lkmoonsammy/lib/python3.7/site-packages/elasticsearch/connection/base.py:208: ElasticsearchWarning: Elasticsearch built-in security features are not enabled. Without authentication, your cluster could be accessible to anyone. See https://www.elastic.co/guide/en/elasticsearch/reference/7.13/security-minimal-setup.html to enable security.\r\n",
      "  warnings.warn(message, category=ElasticsearchWarning)\r\n",
      "Similarity = 0.00298\r\n"
     ]
    }
   ],
   "source": [
    "!python3 TFIDFViewer.py --index news --files 20_newsgroups/comp.sys.ibm.pc.hardware/0001161 20_newsgroups/comp.os.ms-windows.misc/0002001"
   ]
  },
  {
   "cell_type": "code",
   "execution_count": 44,
   "id": "e2cf9a8e",
   "metadata": {},
   "outputs": [
    {
     "name": "stdout",
     "output_type": "stream",
     "text": [
      "/Users/leandramoonsammy/lkmoonsammy/lib/python3.7/site-packages/elasticsearch/connection/base.py:208: ElasticsearchWarning: Elasticsearch built-in security features are not enabled. Without authentication, your cluster could be accessible to anyone. See https://www.elastic.co/guide/en/elasticsearch/reference/7.13/security-minimal-setup.html to enable security.\n",
      "  warnings.warn(message, category=ElasticsearchWarning)\n",
      "Similarity = 0.08054\n"
     ]
    }
   ],
   "source": [
    "!python3 TFIDFViewer.py --index news --files 20_newsgroups/rec.sport.baseball/0009001 20_newsgroups/rec.sport.baseball/0009002"
   ]
  },
  {
   "cell_type": "code",
   "execution_count": null,
   "id": "e36f306c",
   "metadata": {},
   "outputs": [],
   "source": []
  }
 ],
 "metadata": {
  "kernelspec": {
   "display_name": "Python 3 (ipykernel)",
   "language": "python",
   "name": "python3"
  },
  "language_info": {
   "codemirror_mode": {
    "name": "ipython",
    "version": 3
   },
   "file_extension": ".py",
   "mimetype": "text/x-python",
   "name": "python",
   "nbconvert_exporter": "python",
   "pygments_lexer": "ipython3",
   "version": "3.7.3"
  }
 },
 "nbformat": 4,
 "nbformat_minor": 5
}
