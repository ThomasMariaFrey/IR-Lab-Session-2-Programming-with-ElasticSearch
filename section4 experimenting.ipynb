{
 "cells": [
  {
   "cell_type": "markdown",
   "id": "a7811e7b489a0065",
   "metadata": {},
   "source": [
    "### Confirming ElasticSearch Server is running"
   ]
  },
  {
   "cell_type": "code",
   "execution_count": 45,
   "id": "198d8e8ec25cbc7",
   "metadata": {
    "ExecuteTime": {
     "end_time": "2023-10-11T12:06:49.877569Z",
     "start_time": "2023-10-11T12:06:49.744232Z"
    }
   },
   "outputs": [
    {
     "name": "stdout",
     "output_type": "stream",
     "text": [
      "b'{\\n  \"name\" : \"10-192-205-86client.eduroam.upc.edu\",\\n  \"cluster_name\" : \"elasticsearch\",\\n  \"cluster_uuid\" : \"M_it95IjRxSIqi8EljtGHA\",\\n  \"version\" : {\\n    \"number\" : \"7.13.2\",\\n    \"build_flavor\" : \"default\",\\n    \"build_type\" : \"tar\",\\n    \"build_hash\" : \"4d960a0733be83dd2543ca018aa4ddc42e956800\",\\n    \"build_date\" : \"2021-06-10T21:01:55.251515791Z\",\\n    \"build_snapshot\" : false,\\n    \"lucene_version\" : \"8.8.2\",\\n    \"minimum_wire_compatibility_version\" : \"6.8.0\",\\n    \"minimum_index_compatibility_version\" : \"6.0.0-beta1\"\\n  },\\n  \"tagline\" : \"You Know, for Search\"\\n}\\n'\r\n"
     ]
    }
   ],
   "source": [
    "#elasticsearch is running in terminal using /opt/elasticsearch-7.13.2/bin/elasticsearch\n",
    "!python3 elastic_test.py"
   ]
  },
  {
   "cell_type": "markdown",
   "id": "60b2fe6f63150fc3",
   "metadata": {},
   "source": [
    "### Testing Implementation using doc directory"
   ]
  },
  {
   "cell_type": "code",
   "execution_count": 12,
   "id": "5a8aeaf4",
   "metadata": {},
   "outputs": [
    {
     "name": "stdout",
     "output_type": "stream",
     "text": [
      "Indexing 7 files\n",
      "Reading files ...\n",
      "/Users/leandramoonsammy/lkmoonsammy/lib/python3.7/site-packages/elasticsearch/connection/base.py:208: ElasticsearchWarning: Elasticsearch built-in security features are not enabled. Without authentication, your cluster could be accessible to anyone. See https://www.elastic.co/guide/en/elasticsearch/reference/7.13/security-minimal-setup.html to enable security.\n",
      "  warnings.warn(message, category=ElasticsearchWarning)\n",
      "/Users/leandramoonsammy/lkmoonsammy/lib/python3.7/site-packages/elasticsearch/connection/base.py:208: ElasticsearchWarning: the default value for the ?wait_for_active_shards parameter will change from '0' to 'index-setting' in version 8; specify '?wait_for_active_shards=index-setting' to adopt the future default behaviour, or '?wait_for_active_shards=0' to preserve today's behaviour\n",
      "  warnings.warn(message, category=ElasticsearchWarning)\n",
      "/Users/leandramoonsammy/lkmoonsammy/lib/python3.7/site-packages/elasticsearch/connection/base.py:208: ElasticsearchWarning: [types removal] Using include_type_name in put mapping requests is deprecated. The parameter will be removed in the next major version.\n",
      "  warnings.warn(message, category=ElasticsearchWarning)\n",
      "Index settings= {'docs': {'settings': {'index': {'routing': {'allocation': {'include': {'_tier_preference': 'data_content'}}}, 'number_of_shards': '1', 'provided_name': 'docs', 'creation_date': '1697404780073', 'analysis': {'analyzer': {'default': {'filter': ['lowercase'], 'type': 'custom', 'tokenizer': 'standard'}}}, 'number_of_replicas': '1', 'uuid': 'mW0gMAZ3RK6KqbMbXSPXSw', 'version': {'created': '7130299'}}}}}\n",
      "Indexing ...\n"
     ]
    }
   ],
   "source": [
    "!python3 IndexFilesPreprocess.py --index docs --path docs"
   ]
  },
  {
   "cell_type": "code",
   "execution_count": 2,
   "id": "dcd86745",
   "metadata": {},
   "outputs": [
    {
     "name": "stdout",
     "output_type": "stream",
     "text": [
      "/Users/leandramoonsammy/lkmoonsammy/lib/python3.7/site-packages/elasticsearch/connection/base.py:208: ElasticsearchWarning: Elasticsearch built-in security features are not enabled. Without authentication, your cluster could be accessible to anyone. See https://www.elastic.co/guide/en/elasticsearch/reference/7.13/security-minimal-setup.html to enable security.\n",
      "  warnings.warn(message, category=ElasticsearchWarning)\n",
      "Similarity = 1.00000\n"
     ]
    }
   ],
   "source": [
    "!python3 TFIDFViewer.py --index docs --files docs/7 docs/7"
   ]
  },
  {
   "cell_type": "code",
   "execution_count": 3,
   "id": "9bd97ba8",
   "metadata": {},
   "outputs": [
    {
     "name": "stdout",
     "output_type": "stream",
     "text": [
      "/Users/leandramoonsammy/lkmoonsammy/lib/python3.7/site-packages/elasticsearch/connection/base.py:208: ElasticsearchWarning: Elasticsearch built-in security features are not enabled. Without authentication, your cluster could be accessible to anyone. See https://www.elastic.co/guide/en/elasticsearch/reference/7.13/security-minimal-setup.html to enable security.\r\n",
      "  warnings.warn(message, category=ElasticsearchWarning)\r\n",
      "Similarity = 0.01099\r\n"
     ]
    }
   ],
   "source": [
    "!python3 TFIDFViewer.py --index docs --files docs/1 docs/2"
   ]
  },
  {
   "cell_type": "code",
   "execution_count": 4,
   "id": "b4b423b2",
   "metadata": {},
   "outputs": [
    {
     "name": "stdout",
     "output_type": "stream",
     "text": [
      "/Users/leandramoonsammy/lkmoonsammy/lib/python3.7/site-packages/elasticsearch/connection/base.py:208: ElasticsearchWarning: Elasticsearch built-in security features are not enabled. Without authentication, your cluster could be accessible to anyone. See https://www.elastic.co/guide/en/elasticsearch/reference/7.13/security-minimal-setup.html to enable security.\n",
      "  warnings.warn(message, category=ElasticsearchWarning)\n",
      "Similarity = 0.21815\n"
     ]
    }
   ],
   "source": [
    "!python3 TFIDFViewer.py --index docs --files docs/1 docs/3"
   ]
  },
  {
   "cell_type": "markdown",
   "id": "d613c770",
   "metadata": {},
   "source": [
    "### 4. Experimenting"
   ]
  },
  {
   "cell_type": "markdown",
   "id": "6bdc17da",
   "metadata": {},
   "source": [
    "### Novels"
   ]
  },
  {
   "cell_type": "code",
   "execution_count": 7,
   "id": "4e0a8df7",
   "metadata": {},
   "outputs": [
    {
     "name": "stdout",
     "output_type": "stream",
     "text": [
      "Indexing 33 files\n",
      "Reading files ...\n",
      "/Users/leandramoonsammy/lkmoonsammy/lib/python3.7/site-packages/elasticsearch/connection/base.py:208: ElasticsearchWarning: Elasticsearch built-in security features are not enabled. Without authentication, your cluster could be accessible to anyone. See https://www.elastic.co/guide/en/elasticsearch/reference/7.13/security-minimal-setup.html to enable security.\n",
      "  warnings.warn(message, category=ElasticsearchWarning)\n",
      "/Users/leandramoonsammy/lkmoonsammy/lib/python3.7/site-packages/elasticsearch/connection/base.py:208: ElasticsearchWarning: the default value for the ?wait_for_active_shards parameter will change from '0' to 'index-setting' in version 8; specify '?wait_for_active_shards=index-setting' to adopt the future default behaviour, or '?wait_for_active_shards=0' to preserve today's behaviour\n",
      "  warnings.warn(message, category=ElasticsearchWarning)\n",
      "/Users/leandramoonsammy/lkmoonsammy/lib/python3.7/site-packages/elasticsearch/connection/base.py:208: ElasticsearchWarning: [types removal] Using include_type_name in put mapping requests is deprecated. The parameter will be removed in the next major version.\n",
      "  warnings.warn(message, category=ElasticsearchWarning)\n",
      "Index settings= {'novels': {'settings': {'index': {'routing': {'allocation': {'include': {'_tier_preference': 'data_content'}}}, 'number_of_shards': '1', 'provided_name': 'novels', 'creation_date': '1697404300739', 'analysis': {'analyzer': {'default': {'filter': ['lowercase'], 'type': 'custom', 'tokenizer': 'standard'}}}, 'number_of_replicas': '1', 'uuid': 'otekGuvESaGym7gQanfS0w', 'version': {'created': '7130299'}}}}}\n",
      "Indexing ...\n"
     ]
    }
   ],
   "source": [
    "!python3 IndexFilesPreprocess.py --index novels --path novels"
   ]
  },
  {
   "cell_type": "code",
   "execution_count": 13,
   "id": "cd2f353a",
   "metadata": {},
   "outputs": [
    {
     "name": "stdout",
     "output_type": "stream",
     "text": [
      "/Users/leandramoonsammy/lkmoonsammy/lib/python3.7/site-packages/elasticsearch/connection/base.py:208: ElasticsearchWarning: Elasticsearch built-in security features are not enabled. Without authentication, your cluster could be accessible to anyone. See https://www.elastic.co/guide/en/elasticsearch/reference/7.13/security-minimal-setup.html to enable security.\n",
      "  warnings.warn(message, category=ElasticsearchWarning)\n",
      "Similarity = 1.00000\n"
     ]
    }
   ],
   "source": [
    "!python3 TFIDFViewer.py --index novels --files novels/DickensAChristmasCarol.txt novels/DickensAChristmasCarol.txt"
   ]
  },
  {
   "cell_type": "code",
   "execution_count": 8,
   "id": "d04ad29c",
   "metadata": {},
   "outputs": [
    {
     "name": "stdout",
     "output_type": "stream",
     "text": [
      "/Users/leandramoonsammy/lkmoonsammy/lib/python3.7/site-packages/elasticsearch/connection/base.py:208: ElasticsearchWarning: Elasticsearch built-in security features are not enabled. Without authentication, your cluster could be accessible to anyone. See https://www.elastic.co/guide/en/elasticsearch/reference/7.13/security-minimal-setup.html to enable security.\n",
      "  warnings.warn(message, category=ElasticsearchWarning)\n",
      "Similarity = 0.01542\n"
     ]
    }
   ],
   "source": [
    "!python3 TFIDFViewer.py --index novels --files novels/DickensAChristmasCarol.txt novels/DickensThePickwickPapers.txt"
   ]
  },
  {
   "cell_type": "code",
   "execution_count": 9,
   "id": "14df6bd6",
   "metadata": {},
   "outputs": [
    {
     "name": "stdout",
     "output_type": "stream",
     "text": [
      "/Users/leandramoonsammy/lkmoonsammy/lib/python3.7/site-packages/elasticsearch/connection/base.py:208: ElasticsearchWarning: Elasticsearch built-in security features are not enabled. Without authentication, your cluster could be accessible to anyone. See https://www.elastic.co/guide/en/elasticsearch/reference/7.13/security-minimal-setup.html to enable security.\n",
      "  warnings.warn(message, category=ElasticsearchWarning)\n",
      "Similarity = 0.07720\n"
     ]
    }
   ],
   "source": [
    "!python3 TFIDFViewer.py --index novels --files novels/WellsTimeMachine.txt novels/WellsWarofTheWorlds.txt"
   ]
  },
  {
   "cell_type": "code",
   "execution_count": 10,
   "id": "8f5fef95",
   "metadata": {},
   "outputs": [
    {
     "name": "stdout",
     "output_type": "stream",
     "text": [
      "/Users/leandramoonsammy/lkmoonsammy/lib/python3.7/site-packages/elasticsearch/connection/base.py:208: ElasticsearchWarning: Elasticsearch built-in security features are not enabled. Without authentication, your cluster could be accessible to anyone. See https://www.elastic.co/guide/en/elasticsearch/reference/7.13/security-minimal-setup.html to enable security.\n",
      "  warnings.warn(message, category=ElasticsearchWarning)\n",
      "Similarity = 0.00928\n"
     ]
    }
   ],
   "source": [
    "!python3 TFIDFViewer.py --index novels --files novels/DickensAChristmasCarol.txt novels/WellsWarofTheWorlds.txt"
   ]
  },
  {
   "cell_type": "code",
   "execution_count": 46,
   "id": "5616adcb",
   "metadata": {},
   "outputs": [
    {
     "name": "stdout",
     "output_type": "stream",
     "text": [
      "/Users/leandramoonsammy/lkmoonsammy/lib/python3.7/site-packages/elasticsearch/connection/base.py:208: ElasticsearchWarning: Elasticsearch built-in security features are not enabled. Without authentication, your cluster could be accessible to anyone. See https://www.elastic.co/guide/en/elasticsearch/reference/7.13/security-minimal-setup.html to enable security.\n",
      "  warnings.warn(message, category=ElasticsearchWarning)\n",
      "Similarity = 0.02526\n"
     ]
    }
   ],
   "source": [
    "!python3 TFIDFViewer.py --index novels --files novels/KiplingJungleBook.txt novels/LondonCallofTheWild.txt"
   ]
  },
  {
   "cell_type": "code",
   "execution_count": 47,
   "id": "fff6a093",
   "metadata": {},
   "outputs": [
    {
     "name": "stdout",
     "output_type": "stream",
     "text": [
      "/Users/leandramoonsammy/lkmoonsammy/lib/python3.7/site-packages/elasticsearch/connection/base.py:208: ElasticsearchWarning: Elasticsearch built-in security features are not enabled. Without authentication, your cluster could be accessible to anyone. See https://www.elastic.co/guide/en/elasticsearch/reference/7.13/security-minimal-setup.html to enable security.\n",
      "  warnings.warn(message, category=ElasticsearchWarning)\n",
      "Similarity = 0.23506\n"
     ]
    }
   ],
   "source": [
    "!python3 TFIDFViewer.py --index novels --files novels/PoeWorksVol1.txt novels/PoeWorksVol2.txt"
   ]
  },
  {
   "cell_type": "markdown",
   "id": "8cb3bf7c",
   "metadata": {},
   "source": [
    "### News"
   ]
  },
  {
   "cell_type": "code",
   "execution_count": 24,
   "id": "66c68160",
   "metadata": {},
   "outputs": [
    {
     "name": "stdout",
     "output_type": "stream",
     "text": [
      "Indexing 20090 files\n",
      "Reading files ...\n",
      "/Users/leandramoonsammy/lkmoonsammy/lib/python3.7/site-packages/elasticsearch/connection/base.py:208: ElasticsearchWarning: Elasticsearch built-in security features are not enabled. Without authentication, your cluster could be accessible to anyone. See https://www.elastic.co/guide/en/elasticsearch/reference/7.13/security-minimal-setup.html to enable security.\n",
      "  warnings.warn(message, category=ElasticsearchWarning)\n",
      "/Users/leandramoonsammy/lkmoonsammy/lib/python3.7/site-packages/elasticsearch/connection/base.py:208: ElasticsearchWarning: the default value for the ?wait_for_active_shards parameter will change from '0' to 'index-setting' in version 8; specify '?wait_for_active_shards=index-setting' to adopt the future default behaviour, or '?wait_for_active_shards=0' to preserve today's behaviour\n",
      "  warnings.warn(message, category=ElasticsearchWarning)\n",
      "/Users/leandramoonsammy/lkmoonsammy/lib/python3.7/site-packages/elasticsearch/connection/base.py:208: ElasticsearchWarning: [types removal] Using include_type_name in put mapping requests is deprecated. The parameter will be removed in the next major version.\n",
      "  warnings.warn(message, category=ElasticsearchWarning)\n",
      "Index settings= {'news': {'settings': {'index': {'routing': {'allocation': {'include': {'_tier_preference': 'data_content'}}}, 'number_of_shards': '1', 'provided_name': 'news', 'creation_date': '1697405860761', 'analysis': {'analyzer': {'default': {'filter': ['lowercase'], 'type': 'custom', 'tokenizer': 'standard'}}}, 'number_of_replicas': '1', 'uuid': 'A_FXado-Tl2RyOnWhWBH-g', 'version': {'created': '7130299'}}}}}\n",
      "Indexing ...\n"
     ]
    }
   ],
   "source": [
    "!python3 IndexFilesPreprocess.py --index news --path 20_newsgroups"
   ]
  },
  {
   "cell_type": "code",
   "execution_count": 25,
   "id": "6e80649d",
   "metadata": {},
   "outputs": [
    {
     "name": "stdout",
     "output_type": "stream",
     "text": [
      "/Users/leandramoonsammy/lkmoonsammy/lib/python3.7/site-packages/elasticsearch/connection/base.py:208: ElasticsearchWarning: Elasticsearch built-in security features are not enabled. Without authentication, your cluster could be accessible to anyone. See https://www.elastic.co/guide/en/elasticsearch/reference/7.13/security-minimal-setup.html to enable security.\n",
      "  warnings.warn(message, category=ElasticsearchWarning)\n",
      "Similarity = 1.00000\n"
     ]
    }
   ],
   "source": [
    "!python3 TFIDFViewer.py --index news --files 20_newsgroups/alt.atheism/0000001 20_newsgroups/alt.atheism/0000001"
   ]
  },
  {
   "cell_type": "code",
   "execution_count": 26,
   "id": "f6c16cf2",
   "metadata": {},
   "outputs": [
    {
     "name": "stdout",
     "output_type": "stream",
     "text": [
      "/Users/leandramoonsammy/lkmoonsammy/lib/python3.7/site-packages/elasticsearch/connection/base.py:208: ElasticsearchWarning: Elasticsearch built-in security features are not enabled. Without authentication, your cluster could be accessible to anyone. See https://www.elastic.co/guide/en/elasticsearch/reference/7.13/security-minimal-setup.html to enable security.\n",
      "  warnings.warn(message, category=ElasticsearchWarning)\n",
      "Similarity = 0.01726\n"
     ]
    }
   ],
   "source": [
    "!python3 TFIDFViewer.py --index news --files 20_newsgroups/sci.space/0014001 20_newsgroups/alt.atheism/0000001"
   ]
  },
  {
   "cell_type": "code",
   "execution_count": 28,
   "id": "ca09e5db",
   "metadata": {},
   "outputs": [
    {
     "name": "stdout",
     "output_type": "stream",
     "text": [
      "/Users/leandramoonsammy/lkmoonsammy/lib/python3.7/site-packages/elasticsearch/connection/base.py:208: ElasticsearchWarning: Elasticsearch built-in security features are not enabled. Without authentication, your cluster could be accessible to anyone. See https://www.elastic.co/guide/en/elasticsearch/reference/7.13/security-minimal-setup.html to enable security.\n",
      "  warnings.warn(message, category=ElasticsearchWarning)\n",
      "Similarity = 0.01135\n"
     ]
    }
   ],
   "source": [
    "!python3 TFIDFViewer.py --index news --files 20_newsgroups/talk.politics.guns/0011939 20_newsgroups/talk.politics.mideast/0016997"
   ]
  },
  {
   "cell_type": "code",
   "execution_count": 29,
   "id": "dedab115",
   "metadata": {},
   "outputs": [
    {
     "name": "stdout",
     "output_type": "stream",
     "text": [
      "/Users/leandramoonsammy/lkmoonsammy/lib/python3.7/site-packages/elasticsearch/connection/base.py:208: ElasticsearchWarning: Elasticsearch built-in security features are not enabled. Without authentication, your cluster could be accessible to anyone. See https://www.elastic.co/guide/en/elasticsearch/reference/7.13/security-minimal-setup.html to enable security.\n",
      "  warnings.warn(message, category=ElasticsearchWarning)\n",
      "Similarity = 0.10808\n"
     ]
    }
   ],
   "source": [
    "!python3 TFIDFViewer.py --index news --files 20_newsgroups/talk.religion.misc/0000020 20_newsgroups/alt.atheism/0000001"
   ]
  },
  {
   "cell_type": "code",
   "execution_count": 30,
   "id": "551b4e7a",
   "metadata": {},
   "outputs": [
    {
     "name": "stdout",
     "output_type": "stream",
     "text": [
      "/Users/leandramoonsammy/lkmoonsammy/lib/python3.7/site-packages/elasticsearch/connection/base.py:208: ElasticsearchWarning: Elasticsearch built-in security features are not enabled. Without authentication, your cluster could be accessible to anyone. See https://www.elastic.co/guide/en/elasticsearch/reference/7.13/security-minimal-setup.html to enable security.\n",
      "  warnings.warn(message, category=ElasticsearchWarning)\n",
      "Similarity = 0.03673\n"
     ]
    }
   ],
   "source": [
    "!python3 TFIDFViewer.py --index news --files 20_newsgroups/talk.religion.misc/0000020 20_newsgroups/soc.religion.christian/0015001"
   ]
  },
  {
   "cell_type": "code",
   "execution_count": 33,
   "id": "8736b2eb",
   "metadata": {},
   "outputs": [
    {
     "name": "stdout",
     "output_type": "stream",
     "text": [
      "/Users/leandramoonsammy/lkmoonsammy/lib/python3.7/site-packages/elasticsearch/connection/base.py:208: ElasticsearchWarning: Elasticsearch built-in security features are not enabled. Without authentication, your cluster could be accessible to anyone. See https://www.elastic.co/guide/en/elasticsearch/reference/7.13/security-minimal-setup.html to enable security.\r\n",
      "  warnings.warn(message, category=ElasticsearchWarning)\r\n",
      "Similarity = 0.02433\r\n"
     ]
    }
   ],
   "source": [
    "!python3 TFIDFViewer.py --index news --files 20_newsgroups/talk.religion.misc/0000020 20_newsgroups/talk.politics.misc/0014928"
   ]
  },
  {
   "cell_type": "code",
   "execution_count": 34,
   "id": "0f2e9f7f",
   "metadata": {},
   "outputs": [
    {
     "name": "stdout",
     "output_type": "stream",
     "text": [
      "/Users/leandramoonsammy/lkmoonsammy/lib/python3.7/site-packages/elasticsearch/connection/base.py:208: ElasticsearchWarning: Elasticsearch built-in security features are not enabled. Without authentication, your cluster could be accessible to anyone. See https://www.elastic.co/guide/en/elasticsearch/reference/7.13/security-minimal-setup.html to enable security.\n",
      "  warnings.warn(message, category=ElasticsearchWarning)\n",
      "Similarity = 0.01710\n"
     ]
    }
   ],
   "source": [
    "!python3 TFIDFViewer.py --index news --files 20_newsgroups/comp.windows.x/0005000 20_newsgroups/comp.os.ms-windows.misc/0002001"
   ]
  },
  {
   "cell_type": "code",
   "execution_count": 35,
   "id": "092cadc7",
   "metadata": {},
   "outputs": [
    {
     "name": "stdout",
     "output_type": "stream",
     "text": [
      "/Users/leandramoonsammy/lkmoonsammy/lib/python3.7/site-packages/elasticsearch/connection/base.py:208: ElasticsearchWarning: Elasticsearch built-in security features are not enabled. Without authentication, your cluster could be accessible to anyone. See https://www.elastic.co/guide/en/elasticsearch/reference/7.13/security-minimal-setup.html to enable security.\n",
      "  warnings.warn(message, category=ElasticsearchWarning)\n",
      "Similarity = 0.14092\n"
     ]
    }
   ],
   "source": [
    "!python3 TFIDFViewer.py --index news --files 20_newsgroups/rec.sport.baseball/0009001 20_newsgroups/rec.sport.hockey/0010001"
   ]
  },
  {
   "cell_type": "code",
   "execution_count": 36,
   "id": "5d61485d",
   "metadata": {},
   "outputs": [
    {
     "name": "stdout",
     "output_type": "stream",
     "text": [
      "/Users/leandramoonsammy/lkmoonsammy/lib/python3.7/site-packages/elasticsearch/connection/base.py:208: ElasticsearchWarning: Elasticsearch built-in security features are not enabled. Without authentication, your cluster could be accessible to anyone. See https://www.elastic.co/guide/en/elasticsearch/reference/7.13/security-minimal-setup.html to enable security.\n",
      "  warnings.warn(message, category=ElasticsearchWarning)\n",
      "Similarity = 0.00904\n"
     ]
    }
   ],
   "source": [
    "!python3 TFIDFViewer.py --index news --files 20_newsgroups/comp.sys.ibm.pc.hardware/0001161 20_newsgroups/comp.sys.mac.hardware/0003253"
   ]
  },
  {
   "cell_type": "code",
   "execution_count": 37,
   "id": "22aa7d62",
   "metadata": {},
   "outputs": [
    {
     "name": "stdout",
     "output_type": "stream",
     "text": [
      "/Users/leandramoonsammy/lkmoonsammy/lib/python3.7/site-packages/elasticsearch/connection/base.py:208: ElasticsearchWarning: Elasticsearch built-in security features are not enabled. Without authentication, your cluster could be accessible to anyone. See https://www.elastic.co/guide/en/elasticsearch/reference/7.13/security-minimal-setup.html to enable security.\r\n",
      "  warnings.warn(message, category=ElasticsearchWarning)\r\n",
      "Similarity = 0.00298\r\n"
     ]
    }
   ],
   "source": [
    "!python3 TFIDFViewer.py --index news --files 20_newsgroups/comp.sys.ibm.pc.hardware/0001161 20_newsgroups/comp.os.ms-windows.misc/0002001"
   ]
  },
  {
   "cell_type": "code",
   "execution_count": 44,
   "id": "cc9d8046",
   "metadata": {},
   "outputs": [
    {
     "name": "stdout",
     "output_type": "stream",
     "text": [
      "/Users/leandramoonsammy/lkmoonsammy/lib/python3.7/site-packages/elasticsearch/connection/base.py:208: ElasticsearchWarning: Elasticsearch built-in security features are not enabled. Without authentication, your cluster could be accessible to anyone. See https://www.elastic.co/guide/en/elasticsearch/reference/7.13/security-minimal-setup.html to enable security.\n",
      "  warnings.warn(message, category=ElasticsearchWarning)\n",
      "Similarity = 0.08054\n"
     ]
    }
   ],
   "source": [
    "!python3 TFIDFViewer.py --index news --files 20_newsgroups/rec.sport.baseball/0009001 20_newsgroups/rec.sport.baseball/0009002"
   ]
  }
 ],
 "metadata": {
  "kernelspec": {
   "display_name": "Python 3 (ipykernel)",
   "language": "python",
   "name": "python3"
  },
  "language_info": {
   "codemirror_mode": {
    "name": "ipython",
    "version": 3
   },
   "file_extension": ".py",
   "mimetype": "text/x-python",
   "name": "python",
   "nbconvert_exporter": "python",
   "pygments_lexer": "ipython3",
   "version": "3.7.3"
  }
 },
 "nbformat": 4,
 "nbformat_minor": 5
}
